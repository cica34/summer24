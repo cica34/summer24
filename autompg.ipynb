{
 "cells": [
  {
   "cell_type": "markdown",
   "metadata": {},
   "source": [
    "## Auto-mpg<br>\n",
    "Workflow should be:\n",
    "1. Exploring Auto-mpg dataset\n",
    "2. Train models to regress on Auto-mpg dataset\n",
    "3. Apply explanation methods and visualize the effect\n",
    "4. Evaluate explanation methods with several metrics\n",
    "\n",
    "focus is not how accurate the model's predictions are, __instead focus on how each explanation methods is explaining the model <span style=\"color: red;\">(fidelity, accuracy, predictable, stability, consistency, explicitness, certainty)</span>. Therefore, I only perform necessary preprocessing stages.__ What's more, since data size is small, I extract extra data points from current time for prediction.\n",
    "<br>\n",
    "My initial thought is\n",
    "1. Identical preprocessing\n",
    "2. Train 5 models independently, consisting an underfitted one, 3 proper ones, an overfitted one.\n",
    "3. Apply explanation methods\n",
    "4. Evaluation <br>(Fidelity / Accuracy - MSE calculated using predictions / true), <br>(stability / consistency - difference between explanations for a single instances across multiple models), <br>(certainty - difference between explanations given by identical model for different instances with similar target), <br>(<span style=\"color: red;\">Explicitness</span> - Audience-based, how to do remains obsecure)"
   ]
  },
  {
   "cell_type": "code",
   "execution_count": 1,
   "metadata": {},
   "outputs": [
    {
     "name": "stdout",
     "output_type": "stream",
     "text": [
      "Shape: (398, 9)\n"
     ]
    },
    {
     "data": {
      "text/html": [
       "<div>\n",
       "<style scoped>\n",
       "    .dataframe tbody tr th:only-of-type {\n",
       "        vertical-align: middle;\n",
       "    }\n",
       "\n",
       "    .dataframe tbody tr th {\n",
       "        vertical-align: top;\n",
       "    }\n",
       "\n",
       "    .dataframe thead th {\n",
       "        text-align: right;\n",
       "    }\n",
       "</style>\n",
       "<table border=\"1\" class=\"dataframe\">\n",
       "  <thead>\n",
       "    <tr style=\"text-align: right;\">\n",
       "      <th></th>\n",
       "      <th>mpg</th>\n",
       "      <th>cylinders</th>\n",
       "      <th>displacement</th>\n",
       "      <th>horsepower</th>\n",
       "      <th>weight</th>\n",
       "      <th>acceleration</th>\n",
       "      <th>model_year</th>\n",
       "      <th>origin</th>\n",
       "      <th>name</th>\n",
       "    </tr>\n",
       "  </thead>\n",
       "  <tbody>\n",
       "    <tr>\n",
       "      <th>0</th>\n",
       "      <td>18.0</td>\n",
       "      <td>8</td>\n",
       "      <td>307.0</td>\n",
       "      <td>130.0</td>\n",
       "      <td>3504</td>\n",
       "      <td>12.0</td>\n",
       "      <td>70</td>\n",
       "      <td>usa</td>\n",
       "      <td>chevrolet chevelle malibu</td>\n",
       "    </tr>\n",
       "    <tr>\n",
       "      <th>1</th>\n",
       "      <td>15.0</td>\n",
       "      <td>8</td>\n",
       "      <td>350.0</td>\n",
       "      <td>165.0</td>\n",
       "      <td>3693</td>\n",
       "      <td>11.5</td>\n",
       "      <td>70</td>\n",
       "      <td>usa</td>\n",
       "      <td>buick skylark 320</td>\n",
       "    </tr>\n",
       "  </tbody>\n",
       "</table>\n",
       "</div>"
      ],
      "text/plain": [
       "    mpg  cylinders  displacement  horsepower  weight  acceleration  \\\n",
       "0  18.0          8         307.0       130.0    3504          12.0   \n",
       "1  15.0          8         350.0       165.0    3693          11.5   \n",
       "\n",
       "   model_year origin                       name  \n",
       "0          70    usa  chevrolet chevelle malibu  \n",
       "1          70    usa          buick skylark 320  "
      ]
     },
     "execution_count": 1,
     "metadata": {},
     "output_type": "execute_result"
    }
   ],
   "source": [
    "import pandas as pd\n",
    "import numpy as np\n",
    "import joblib\n",
    "import os\n",
    "\n",
    "autompg = pd.read_csv('Datasets/auto_mpg.csv')\n",
    "print(f'Shape: {autompg.shape}')\n",
    "autompg.head(2)"
   ]
  },
  {
   "cell_type": "code",
   "execution_count": 2,
   "metadata": {},
   "outputs": [],
   "source": [
    "X, y = autompg.iloc[:, 1:], autompg.iloc[:, 0] # mpg is the target"
   ]
  },
  {
   "cell_type": "markdown",
   "metadata": {},
   "source": [
    "#### preprocessing\n",
    "1. __Centered around median (but not normalized with MAD)__: cylinder, displacement, weight, acceleration, model_year\n",
    "2. __Impute with median and centered around median__\n",
    "3. __One-hot Encode (with dropping 1)__: origin\n",
    "4. __Extract company & One-hot encode (with dropping 1)__: name\n",
    "\n",
    "Median-centered & Drop 1 during one hot encoding enables compare the feature important with reference."
   ]
  },
  {
   "cell_type": "code",
   "execution_count": 3,
   "metadata": {},
   "outputs": [],
   "source": [
    "from sklearn.base import BaseEstimator, TransformerMixin\n",
    "from sklearn.compose import ColumnTransformer\n",
    "from sklearn.pipeline import Pipeline\n",
    "from sklearn.preprocessing import OneHotEncoder\n",
    "from sklearn.impute import SimpleImputer\n",
    "\n",
    "class MedianCenterer(BaseEstimator, TransformerMixin): \n",
    "    def __init__(self):\n",
    "        pass\n",
    "    def fit(self, X, y=None):\n",
    "        self.medians = np.median(X, axis=0)\n",
    "        # self.mads_ = np.median(np.abs(X - self.medians), axis=0)\n",
    "        return self\n",
    "    def transform(self, X):\n",
    "        return X - self.medians\n",
    "        # return (X - self.medians) / self.mads_\n",
    "    \n",
    "class CompanyNameExtractor(BaseEstimator, TransformerMixin):\n",
    "    def __init__(self):\n",
    "        pass\n",
    "    def fit(self, X, y=None):\n",
    "        return self\n",
    "    def transform(self, X):\n",
    "        return X.map(lambda name: name.split()[0]).values\n",
    "    \n",
    "median_center_columns = ['cylinders', 'displacement', 'weight', 'acceleration', 'model_year']\n",
    "\n",
    "impute_and_center_median_columns = ['horsepower']\n",
    "\n",
    "one_hot_columns = ['origin']\n",
    "\n",
    "company_name_columns = ['name']\n",
    "\n",
    "preprocessor = ColumnTransformer(\n",
    "    transformers = [\n",
    "        ('median_center', MedianCenterer(), median_center_columns),\n",
    "        ('impute_and_center_median', Pipeline([\n",
    "            ('imputer', SimpleImputer(strategy='median')),\n",
    "            ('centerer', MedianCenterer())\n",
    "        ]), impute_and_center_median_columns),\n",
    "        ('one_hot_origin', OneHotEncoder(sparse_output=False, drop='first', dtype=int), one_hot_columns),\n",
    "        ('company_name', Pipeline([\n",
    "            ('extractor', CompanyNameExtractor()),\n",
    "            ('one_hot', OneHotEncoder(sparse_output=False, drop='first', dtype=int))\n",
    "        ]), company_name_columns)\n",
    "    ],\n",
    "    remainder = 'passthrough'\n",
    ")\n",
    "\n",
    "def get_feature_names_out(pipeline):\n",
    "    # Obtain the feature names from the pipeline\n",
    "    \n",
    "    preprocessor = pipeline.named_steps['preprocessor']\n",
    "    origin_encoder = preprocessor.named_transformers_['one_hot_origin']\n",
    "    company_name_encoder = preprocessor.named_transformers_['company_name'].named_steps['one_hot']\n",
    "    \n",
    "    origin_columns = origin_encoder.get_feature_names_out(['origin'])\n",
    "    company_name_columns = company_name_encoder.get_feature_names_out(['company_name'])\n",
    "    \n",
    "    return (median_center_columns + impute_and_center_median_columns + list(origin_columns) + list(company_name_columns))"
   ]
  },
  {
   "cell_type": "markdown",
   "metadata": {},
   "source": [
    "#### model training stage.\n",
    "1. Underfitted model: Sparse linear model with Lasso\n",
    "2. Proper model: Sparse Linear model with Lasso (smaller penalty), SVR, and k-NN\n",
    "3. Overfitted model: Poly Linear\n",
    "\n",
    "__The trained models shall be stored__"
   ]
  },
  {
   "cell_type": "code",
   "execution_count": 37,
   "metadata": {},
   "outputs": [],
   "source": [
    "from sklearn.linear_model import Lasso, LinearRegression\n",
    "from sklearn.preprocessing import PolynomialFeatures\n",
    "from sklearn.svm import SVR\n",
    "from sklearn.neighbors import KNeighborsRegressor\n",
    "from sklearn.metrics import mean_squared_error\n",
    "from pygam import LinearGAM, s, f, te"
   ]
  },
  {
   "cell_type": "code",
   "execution_count": 5,
   "metadata": {},
   "outputs": [
    {
     "data": {
      "text/plain": [
       "\"\\nsparselr_underfit_pipeline = Pipeline(steps=[\\n    ('preprocessor', preprocessor),\\n    ('model', Lasso(fit_intercept=False, alpha=.1, max_iter=100))\\n])\\nsparselr_underfit_pipeline.fit(X, y)\\ny_pred = sparselr_underfit_pipeline.predict(X)\\nmse = mean_squared_error(y, y_pred)\\nmse\\n#\""
      ]
     },
     "execution_count": 5,
     "metadata": {},
     "output_type": "execute_result"
    }
   ],
   "source": [
    "# training an underfitted model\n",
    "\"\"\"\n",
    "sparselr_underfit_pipeline = Pipeline(steps=[\n",
    "    ('preprocessor', preprocessor),\n",
    "    ('model', Lasso(fit_intercept=False, alpha=.1, max_iter=100))\n",
    "])\n",
    "sparselr_underfit_pipeline.fit(X, y)\n",
    "y_pred = sparselr_underfit_pipeline.predict(X)\n",
    "mse = mean_squared_error(y, y_pred)\n",
    "mse\n",
    "#\"\"\""
   ]
  },
  {
   "cell_type": "code",
   "execution_count": 38,
   "metadata": {},
   "outputs": [
    {
     "data": {
      "text/plain": [
       "2.497834808573334"
      ]
     },
     "execution_count": 38,
     "metadata": {},
     "output_type": "execute_result"
    }
   ],
   "source": [
    "sparsel_proper_pipeline = Pipeline(steps=[\n",
    "    ('preprocessor', preprocessor),\n",
    "    ('poly_features', PolynomialFeatures(degree=2, include_bias=False)),\n",
    "    ('model', LinearRegression(fit_intercept=False))\n",
    "])\n",
    "sparsel_proper_pipeline.fit(X, y)\n",
    "y_pred = sparsel_proper_pipeline.predict(X)\n",
    "mse = mean_squared_error(y, y_pred)\n",
    "mse"
   ]
  },
  {
   "cell_type": "code",
   "execution_count": 40,
   "metadata": {},
   "outputs": [
    {
     "data": {
      "text/plain": [
       "['Models/Autompg_overfitted_poly.pkl']"
      ]
     },
     "execution_count": 40,
     "metadata": {},
     "output_type": "execute_result"
    }
   ],
   "source": [
    "joblib.dump(sparsel_proper_pipeline, 'Models/Autompg_overfitted_poly.pkl')"
   ]
  }
 ],
 "metadata": {
  "kernelspec": {
   "display_name": "Python 3",
   "language": "python",
   "name": "python3"
  },
  "language_info": {
   "codemirror_mode": {
    "name": "ipython",
    "version": 3
   },
   "file_extension": ".py",
   "mimetype": "text/x-python",
   "name": "python",
   "nbconvert_exporter": "python",
   "pygments_lexer": "ipython3",
   "version": "3.12.3"
  }
 },
 "nbformat": 4,
 "nbformat_minor": 2
}
